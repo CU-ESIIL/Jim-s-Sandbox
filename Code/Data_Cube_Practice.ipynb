{
 "cells": [
  {
   "cell_type": "code",
   "execution_count": 3,
   "id": "5ceaf207-b1c6-4169-a685-1c16f67e2295",
   "metadata": {},
   "outputs": [
    {
     "name": "stdout",
     "output_type": "stream",
     "text": [
      "Time difference: 59.1345911026001 seconds\n",
      "Raster details:\n",
      "Dimensions  : 13920 rows, 20640 cols\n",
      "Resolution  : 0.00416666666666667, 0.00416666666666667 (x, y)\n",
      "Extent      : -138.0, -51.99999999999993, 5.0, 63.00000000000005\n",
      "CRS         : EPSG:4326\n",
      "Source      : /vsizip/vsicurl/https://data.hydrosheds.org/file/hydrosheds-v1-dem/hyd_na_dem_15s.zip/hyd_na_dem_15s.tif\n",
      "Band Count  : 1\n"
     ]
    }
   ],
   "source": [
    "import rasterio\n",
    "import fsspec\n",
    "import time\n",
    "\n",
    "# Record start time\n",
    "start_time = time.time()\n",
    "\n",
    "# Create a virtual file path for the DEM file within the remote zip using fsspec\n",
    "file_path = \"/vsizip/vsicurl/https://data.hydrosheds.org/file/hydrosheds-v1-dem/hyd_na_dem_15s.zip/hyd_na_dem_15s.tif\"\n",
    "\n",
    "# Open the DEM file as a raster object with rasterio\n",
    "with rasterio.open(file_path) as src:\n",
    "    DEM_continuous_CONUS_15s = src.read(1)  # Read the first band\n",
    "\n",
    "# Record end time and calculate the time difference\n",
    "end_time = time.time()\n",
    "time_diff = end_time - start_time\n",
    "print(f\"Time difference: {time_diff} seconds\")\n",
    "\n",
    "# Print out the details of the raster object\n",
    "print(\"Raster details:\")\n",
    "print(f\"Dimensions  : {src.height} rows, {src.width} cols\")\n",
    "print(f\"Resolution  : {src.res[0]}, {src.res[1]} (x, y)\")\n",
    "print(f\"Extent      : {src.bounds.left}, {src.bounds.right}, {src.bounds.bottom}, {src.bounds.top}\")\n",
    "print(f\"CRS         : {src.crs}\")\n",
    "print(f\"Source      : {file_path}\")\n",
    "print(f\"Band Count  : {src.count}\")"
   ]
  },
  {
   "cell_type": "code",
   "execution_count": 2,
   "id": "037d6b48-4ce6-4628-a4c3-3b342491e1e2",
   "metadata": {},
   "outputs": [
    {
     "name": "stdout",
     "output_type": "stream",
     "text": [
      "Collecting fsspec\n",
      "  Downloading fsspec-2024.9.0-py3-none-any.whl.metadata (11 kB)\n",
      "Downloading fsspec-2024.9.0-py3-none-any.whl (179 kB)\n",
      "\u001b[2K   \u001b[90m━━━━━━━━━━━━━━━━━━━━━━━━━━━━━━━━━━━━━━━━\u001b[0m \u001b[32m179.3/179.3 kB\u001b[0m \u001b[31m6.7 MB/s\u001b[0m eta \u001b[36m0:00:00\u001b[0m\n",
      "\u001b[?25hInstalling collected packages: fsspec\n",
      "Successfully installed fsspec-2024.9.0\n",
      "Note: you may need to restart the kernel to use updated packages.\n"
     ]
    }
   ],
   "source": [
    "pip install fsspec"
   ]
  },
  {
   "cell_type": "code",
   "execution_count": null,
   "id": "abf917d5-62be-41c7-86c6-922f503d98e9",
   "metadata": {},
   "outputs": [],
   "source": []
  }
 ],
 "metadata": {
  "kernelspec": {
   "display_name": "macrosystems",
   "language": "python",
   "name": "macrosystems"
  },
  "language_info": {
   "codemirror_mode": {
    "name": "ipython",
    "version": 3
   },
   "file_extension": ".py",
   "mimetype": "text/x-python",
   "name": "python",
   "nbconvert_exporter": "python",
   "pygments_lexer": "ipython3",
   "version": "3.10.13"
  }
 },
 "nbformat": 4,
 "nbformat_minor": 5
}
