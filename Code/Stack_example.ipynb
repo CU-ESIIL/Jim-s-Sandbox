{
 "cells": [
  {
   "cell_type": "code",
   "execution_count": 5,
   "id": "0d48e6fd-97ef-41cf-82f6-918d6ac7dfdd",
   "metadata": {},
   "outputs": [
    {
     "name": "stderr",
     "output_type": "stream",
     "text": [
      "\n",
      "Attaching package: ‘glue’\n",
      "\n",
      "\n",
      "The following object is masked from ‘package:terra’:\n",
      "\n",
      "    trim\n",
      "\n",
      "\n"
     ]
    },
    {
     "data": {
      "text/plain": [
       "Time difference of 5.095098 secs"
      ]
     },
     "metadata": {},
     "output_type": "display_data"
    },
    {
     "data": {
      "text/plain": [
       "class       : SpatRaster \n",
       "dimensions  : 13920, 20640, 1  (nrow, ncol, nlyr)\n",
       "resolution  : 0.004166667, 0.004166667  (x, y)\n",
       "extent      : -138, -52, 5, 63  (xmin, xmax, ymin, ymax)\n",
       "coord. ref. : lon/lat WGS 84 (EPSG:4326) \n",
       "source      : hyd_na_dem_15s.tif \n",
       "name        : Band_1 "
      ]
     },
     "metadata": {},
     "output_type": "display_data"
    }
   ],
   "source": [
    "library(glue)\n",
    "# Record start time\n",
    "a <- Sys.time()  \n",
    "\n",
    "# Create a string with the file path using glue, then download and read the DEM file as a raster object\n",
    "\n",
    "DEM_continuous_CONUS_15s <- glue(\n",
    "  \"/vsizip/vsicurl/\", #magic remote connection \n",
    "  \"https://data.hydrosheds.org/file/hydrosheds-v1-dem/hyd_na_dem_15s.zip\", #copied link to download location\n",
    "  \"/hyd_na_dem_15s.tif\") %>% #path inside zip file\n",
    "  terra::rast()  \n",
    "\n",
    "# The 'glue' function constructs the file path string, which is then passed to 'terra::rast()' to read the DEM file into R as a raster layer. '/vsizip/vsicurl/' is a special GDAL virtual file system syntax that allows reading directly from a zipped file on a remote server.\n",
    "\n",
    "# Record end time and calculate the time difference\n",
    "b <- Sys.time()  \n",
    "difftime(b, a) \n",
    "## Time difference of 4.603666 secs\n",
    "\n",
    "# The resulting raster object is stored in 'DEM_continuous_CONUS_15s', which now contains the void-filled DEM data ready for use\n",
    "\n",
    "DEM_continuous_CONUS_15s  # Prints out the details of the 'DEM_continuous_CONUS_15s' raster object\n",
    "## class       : SpatRaster \n",
    "## dimensions  : 13920, 20640, 1  (nrow, ncol, nlyr)\n",
    "## resolution  : 0.004166667, 0.004166667  (x, y)\n",
    "## extent      : -138, -52, 5, 63  (xmin, xmax, ymin, ymax)\n",
    "## coord. ref. : lon/lat WGS 84 (EPSG:4326) \n",
    "## source      : hyd_na_dem_15s.tif \n",
    "## name        : Band_1\n",
    "\n",
    "# output is a SpatRaster, which is the object type associated with the 'terra' package. \n"
   ]
  },
  {
   "cell_type": "code",
   "execution_count": 1,
   "id": "26a03ece-74d3-4173-bc55-e0c59f6c8480",
   "metadata": {},
   "outputs": [
    {
     "name": "stderr",
     "output_type": "stream",
     "text": [
      "Linking to GEOS 3.12.0, GDAL 3.7.2, PROJ 9.3.0; sf_use_s2() is TRUE\n",
      "\n",
      "Please note that rgdal will be retired during October 2023,\n",
      "plan transition to sf/stars/terra functions using GDAL and PROJ\n",
      "at your earliest convenience.\n",
      "See https://r-spatial.org/r/2023/05/15/evolution4.html and https://github.com/r-spatial/evolution\n",
      "rgdal: version: 1.6-7, (SVN revision 1203)\n",
      "Geospatial Data Abstraction Library extensions to R successfully loaded\n",
      "Loaded GDAL runtime: GDAL 3.7.2, released 2023/09/05\n",
      "Path to GDAL shared files: /opt/conda/share/gdal\n",
      " GDAL does not use iconv for recoding strings.\n",
      "GDAL binary built with GEOS: TRUE \n",
      "Loaded PROJ runtime: Rel. 9.3.0, September 1st, 2023, [PJ_VERSION: 930]\n",
      "Path to PROJ shared files: /opt/conda/envs/macrosystems/share/proj\n",
      "PROJ CDN enabled: TRUE\n",
      "Linking to sp version:2.1-1\n",
      "To mute warnings of possible GDAL/OSR exportToProj4() degradation,\n",
      "use options(\"rgdal_show_exportToProj4_warnings\"=\"none\") before loading sp or rgdal.\n",
      "\n",
      "\n",
      "Attaching package: ‘gdalUtils’\n",
      "\n",
      "\n",
      "The following object is masked from ‘package:sf’:\n",
      "\n",
      "    gdal_rasterize\n",
      "\n",
      "\n",
      "terra 1.7.55\n",
      "\n",
      "\n",
      "Attaching package: ‘terra’\n",
      "\n",
      "\n",
      "The following objects are masked from ‘package:gdalcubes’:\n",
      "\n",
      "    animate, crop, size\n",
      "\n",
      "\n",
      "Loading required package: sp\n",
      "\n",
      "\n",
      "Attaching package: ‘sp’\n",
      "\n",
      "\n",
      "The following object is masked from ‘package:gdalcubes’:\n",
      "\n",
      "    dimensions\n",
      "\n",
      "\n",
      "\n",
      "Attaching package: ‘rgdal’\n",
      "\n",
      "\n",
      "The following object is masked from ‘package:terra’:\n",
      "\n",
      "    project\n",
      "\n",
      "\n"
     ]
    },
    {
     "ename": "ERROR",
     "evalue": "Error in library(osmdata): there is no package called ‘osmdata’\n",
     "output_type": "error",
     "traceback": [
      "Error in library(osmdata): there is no package called ‘osmdata’\nTraceback:\n",
      "1. library(osmdata)"
     ]
    }
   ],
   "source": [
    "\n",
    "#library(Rcpp)\n",
    "library(sf)\n",
    "library(gdalcubes)\n",
    "library(rstac)\n",
    "library(gdalUtils)\n",
    "library(terra)\n",
    "library(rgdal)\n",
    "library(reshape2)\n",
    "library(osmdata)\n",
    "library(terra)\n",
    "library(dplyr)\n",
    "library(stars)\n",
    "library(ggplot2)\n",
    "library(colorspace)\n",
    "library(geos)\n",
    "library(osmdata)\n",
    "library(ggthemes)\n",
    "library(tidyr)\n",
    "gdalcubes_options(parallel = 8)\n",
    "\n",
    "sf::sf_extSoftVersion()\n",
    "##           GEOS           GDAL         proj.4 GDAL_with_GEOS     USE_PROJ_H \n",
    "##       \"3.11.0\"        \"3.5.3\"        \"9.1.0\"         \"true\"         \"true\" \n",
    "##           PROJ \n",
    "##        \"9.1.0\"\n",
    "gdalcubes_gdal_has_geos()\n",
    "## [1] TRUE\n",
    "\n",
    "library(osmdata)\n",
    "library(dplyr)\n",
    "library(sf)\n",
    "library(terra)\n",
    "library(tidyterra)\n",
    "library(glue)\n",
    "library(ggplot2)\n",
    "library(ggthemes)\n",
    "library(stars)\n",
    "library(magrittr)\n",
    "library(landsat)\n"
   ]
  },
  {
   "cell_type": "code",
   "execution_count": null,
   "id": "0f8b0404-b3ac-4004-b8dc-896fd3c444da",
   "metadata": {},
   "outputs": [],
   "source": []
  }
 ],
 "metadata": {
  "kernelspec": {
   "display_name": "R",
   "language": "R",
   "name": "ir"
  },
  "language_info": {
   "codemirror_mode": "r",
   "file_extension": ".r",
   "mimetype": "text/x-r-source",
   "name": "R",
   "pygments_lexer": "r",
   "version": "4.2.3"
  }
 },
 "nbformat": 4,
 "nbformat_minor": 5
}
