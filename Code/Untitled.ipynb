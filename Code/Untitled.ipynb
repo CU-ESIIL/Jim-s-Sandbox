{
 "cells": [
  {
   "cell_type": "code",
   "execution_count": null,
   "id": "f7047c2b-31c5-4fd8-acc2-52eed57880fa",
   "metadata": {},
   "outputs": [],
   "source": []
  }
 ],
 "metadata": {
  "kernelspec": {
   "display_name": "R",
   "language": "R",
   "name": "ir"
  },
  "language_info": {
   "codemirror_mode": "r",
   "file_extension": ".r",
   "mimetype": "text/x-r-source",
   "name": "R",
   "pygments_lexer": "r",
   "version": "4.2.3"
  }
 },
 "nbformat": 4,
 "nbformat_minor": 5
}
